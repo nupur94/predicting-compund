{
 "cells": [
  {
   "cell_type": "markdown",
   "metadata": {},
   "source": [
    "## <font color='Purple'><b>Assignment</font></b>\n",
    "\n",
    "<font color='red'><b>Task:</font></b> The given dataset contains details about organic chemical compounds including their chemical features, isomeric conformation, names and the classes in which they are classified. The compounds are classified as either ‘Musk’ or ‘Non-Musk’ compounds. Our task is to build a classification model on the given data using any Deep Learning approach  viz. Multi-Layer Perceptron, CNN, RNN, etc."
   ]
  },
  {
   "cell_type": "markdown",
   "metadata": {},
   "source": [
    "### Loading libraries"
   ]
  },
  {
   "cell_type": "code",
   "execution_count": 1,
   "metadata": {},
   "outputs": [],
   "source": [
    "import numpy as np\n",
    "import pandas as pd\n",
    "from sklearn.model_selection import train_test_split\n",
    "import seaborn as sns\n",
    "import matplotlib.pyplot as plt\n",
    "from sklearn.decomposition import PCA\n",
    "from sklearn.metrics import roc_auc_score\n",
    "from sklearn.metrics import roc_curve\n",
    "from sklearn.metrics import f1_score, precision_score, recall_score\n",
    "%matplotlib inline"
   ]
  },
  {
   "cell_type": "markdown",
   "metadata": {},
   "source": [
    "### Loading data using pandas dataframe"
   ]
  },
  {
   "cell_type": "code",
   "execution_count": 2,
   "metadata": {},
   "outputs": [
    {
     "data": {
      "text/html": [
       "<div>\n",
       "<style scoped>\n",
       "    .dataframe tbody tr th:only-of-type {\n",
       "        vertical-align: middle;\n",
       "    }\n",
       "\n",
       "    .dataframe tbody tr th {\n",
       "        vertical-align: top;\n",
       "    }\n",
       "\n",
       "    .dataframe thead th {\n",
       "        text-align: right;\n",
       "    }\n",
       "</style>\n",
       "<table border=\"1\" class=\"dataframe\">\n",
       "  <thead>\n",
       "    <tr style=\"text-align: right;\">\n",
       "      <th></th>\n",
       "      <th>ID</th>\n",
       "      <th>molecule_name</th>\n",
       "      <th>conformation_name</th>\n",
       "      <th>f1</th>\n",
       "      <th>f2</th>\n",
       "      <th>f3</th>\n",
       "      <th>f4</th>\n",
       "      <th>f5</th>\n",
       "      <th>f6</th>\n",
       "      <th>f7</th>\n",
       "      <th>...</th>\n",
       "      <th>f158</th>\n",
       "      <th>f159</th>\n",
       "      <th>f160</th>\n",
       "      <th>f161</th>\n",
       "      <th>f162</th>\n",
       "      <th>f163</th>\n",
       "      <th>f164</th>\n",
       "      <th>f165</th>\n",
       "      <th>f166</th>\n",
       "      <th>class</th>\n",
       "    </tr>\n",
       "  </thead>\n",
       "  <tbody>\n",
       "    <tr>\n",
       "      <th>0</th>\n",
       "      <td>1</td>\n",
       "      <td>MUSK-211</td>\n",
       "      <td>211_1+1</td>\n",
       "      <td>46</td>\n",
       "      <td>-108</td>\n",
       "      <td>-60</td>\n",
       "      <td>-69</td>\n",
       "      <td>-117</td>\n",
       "      <td>49</td>\n",
       "      <td>38</td>\n",
       "      <td>...</td>\n",
       "      <td>-308</td>\n",
       "      <td>52</td>\n",
       "      <td>-7</td>\n",
       "      <td>39</td>\n",
       "      <td>126</td>\n",
       "      <td>156</td>\n",
       "      <td>-50</td>\n",
       "      <td>-112</td>\n",
       "      <td>96</td>\n",
       "      <td>1</td>\n",
       "    </tr>\n",
       "    <tr>\n",
       "      <th>1</th>\n",
       "      <td>2</td>\n",
       "      <td>MUSK-211</td>\n",
       "      <td>211_1+10</td>\n",
       "      <td>41</td>\n",
       "      <td>-188</td>\n",
       "      <td>-145</td>\n",
       "      <td>22</td>\n",
       "      <td>-117</td>\n",
       "      <td>-6</td>\n",
       "      <td>57</td>\n",
       "      <td>...</td>\n",
       "      <td>-59</td>\n",
       "      <td>-2</td>\n",
       "      <td>52</td>\n",
       "      <td>103</td>\n",
       "      <td>136</td>\n",
       "      <td>169</td>\n",
       "      <td>-61</td>\n",
       "      <td>-136</td>\n",
       "      <td>79</td>\n",
       "      <td>1</td>\n",
       "    </tr>\n",
       "    <tr>\n",
       "      <th>2</th>\n",
       "      <td>3</td>\n",
       "      <td>MUSK-211</td>\n",
       "      <td>211_1+11</td>\n",
       "      <td>46</td>\n",
       "      <td>-194</td>\n",
       "      <td>-145</td>\n",
       "      <td>28</td>\n",
       "      <td>-117</td>\n",
       "      <td>73</td>\n",
       "      <td>57</td>\n",
       "      <td>...</td>\n",
       "      <td>-134</td>\n",
       "      <td>-154</td>\n",
       "      <td>57</td>\n",
       "      <td>143</td>\n",
       "      <td>142</td>\n",
       "      <td>165</td>\n",
       "      <td>-67</td>\n",
       "      <td>-145</td>\n",
       "      <td>39</td>\n",
       "      <td>1</td>\n",
       "    </tr>\n",
       "    <tr>\n",
       "      <th>3</th>\n",
       "      <td>4</td>\n",
       "      <td>MUSK-211</td>\n",
       "      <td>211_1+12</td>\n",
       "      <td>41</td>\n",
       "      <td>-188</td>\n",
       "      <td>-145</td>\n",
       "      <td>22</td>\n",
       "      <td>-117</td>\n",
       "      <td>-7</td>\n",
       "      <td>57</td>\n",
       "      <td>...</td>\n",
       "      <td>-60</td>\n",
       "      <td>-4</td>\n",
       "      <td>52</td>\n",
       "      <td>104</td>\n",
       "      <td>136</td>\n",
       "      <td>168</td>\n",
       "      <td>-60</td>\n",
       "      <td>-135</td>\n",
       "      <td>80</td>\n",
       "      <td>1</td>\n",
       "    </tr>\n",
       "    <tr>\n",
       "      <th>4</th>\n",
       "      <td>5</td>\n",
       "      <td>MUSK-211</td>\n",
       "      <td>211_1+13</td>\n",
       "      <td>41</td>\n",
       "      <td>-188</td>\n",
       "      <td>-145</td>\n",
       "      <td>22</td>\n",
       "      <td>-117</td>\n",
       "      <td>-7</td>\n",
       "      <td>57</td>\n",
       "      <td>...</td>\n",
       "      <td>-60</td>\n",
       "      <td>-4</td>\n",
       "      <td>52</td>\n",
       "      <td>104</td>\n",
       "      <td>137</td>\n",
       "      <td>168</td>\n",
       "      <td>-60</td>\n",
       "      <td>-135</td>\n",
       "      <td>80</td>\n",
       "      <td>1</td>\n",
       "    </tr>\n",
       "  </tbody>\n",
       "</table>\n",
       "<p>5 rows × 170 columns</p>\n",
       "</div>"
      ],
      "text/plain": [
       "   ID molecule_name conformation_name  f1   f2   f3  f4   f5  f6  f7  ...    \\\n",
       "0   1      MUSK-211           211_1+1  46 -108  -60 -69 -117  49  38  ...     \n",
       "1   2      MUSK-211          211_1+10  41 -188 -145  22 -117  -6  57  ...     \n",
       "2   3      MUSK-211          211_1+11  46 -194 -145  28 -117  73  57  ...     \n",
       "3   4      MUSK-211          211_1+12  41 -188 -145  22 -117  -7  57  ...     \n",
       "4   5      MUSK-211          211_1+13  41 -188 -145  22 -117  -7  57  ...     \n",
       "\n",
       "   f158  f159  f160  f161  f162  f163  f164  f165  f166  class  \n",
       "0  -308    52    -7    39   126   156   -50  -112    96      1  \n",
       "1   -59    -2    52   103   136   169   -61  -136    79      1  \n",
       "2  -134  -154    57   143   142   165   -67  -145    39      1  \n",
       "3   -60    -4    52   104   136   168   -60  -135    80      1  \n",
       "4   -60    -4    52   104   137   168   -60  -135    80      1  \n",
       "\n",
       "[5 rows x 170 columns]"
      ]
     },
     "execution_count": 2,
     "metadata": {},
     "output_type": "execute_result"
    }
   ],
   "source": [
    "df=pd.read_csv('musk_csv.csv')\n",
    "df.head(5)"
   ]
  },
  {
   "cell_type": "markdown",
   "metadata": {},
   "source": [
    "### Exploratory Data Analysis"
   ]
  },
  {
   "cell_type": "code",
   "execution_count": 14,
   "metadata": {},
   "outputs": [
    {
     "data": {
      "text/plain": [
       "6598"
      ]
     },
     "execution_count": 14,
     "metadata": {},
     "output_type": "execute_result"
    }
   ],
   "source": [
    "# No. of datapoints\n",
    "df.shape[0]"
   ]
  },
  {
   "cell_type": "code",
   "execution_count": 15,
   "metadata": {},
   "outputs": [
    {
     "data": {
      "text/plain": [
       "170"
      ]
     },
     "execution_count": 15,
     "metadata": {},
     "output_type": "execute_result"
    }
   ],
   "source": [
    "# No. of features\n",
    "df.shape[1]"
   ]
  },
  {
   "cell_type": "code",
   "execution_count": 16,
   "metadata": {},
   "outputs": [
    {
     "data": {
      "text/plain": [
       "array([1, 1, 1, ..., 0, 0, 0])"
      ]
     },
     "execution_count": 16,
     "metadata": {},
     "output_type": "execute_result"
    }
   ],
   "source": [
    "# values in class varible\n",
    "df['class'].values"
   ]
  },
  {
   "cell_type": "code",
   "execution_count": 17,
   "metadata": {},
   "outputs": [
    {
     "data": {
      "text/plain": [
       "0    5581\n",
       "1    1017\n",
       "Name: class, dtype: int64"
      ]
     },
     "execution_count": 17,
     "metadata": {},
     "output_type": "execute_result"
    }
   ],
   "source": [
    "# no. of datapoints in each class 0 and 1.\n",
    "df['class'].value_counts()"
   ]
  },
  {
   "cell_type": "code",
   "execution_count": 9,
   "metadata": {},
   "outputs": [
    {
     "data": {
      "text/html": [
       "<div>\n",
       "<style>\n",
       "    .dataframe thead tr:only-child th {\n",
       "        text-align: right;\n",
       "    }\n",
       "\n",
       "    .dataframe thead th {\n",
       "        text-align: left;\n",
       "    }\n",
       "\n",
       "    .dataframe tbody tr th {\n",
       "        vertical-align: top;\n",
       "    }\n",
       "</style>\n",
       "<table border=\"1\" class=\"dataframe\">\n",
       "  <thead>\n",
       "    <tr style=\"text-align: right;\">\n",
       "      <th></th>\n",
       "      <th>ID</th>\n",
       "      <th>molecule_name</th>\n",
       "      <th>conformation_name</th>\n",
       "      <th>f1</th>\n",
       "      <th>f2</th>\n",
       "      <th>f3</th>\n",
       "      <th>f4</th>\n",
       "      <th>f5</th>\n",
       "      <th>f6</th>\n",
       "      <th>f7</th>\n",
       "      <th>...</th>\n",
       "      <th>f158</th>\n",
       "      <th>f159</th>\n",
       "      <th>f160</th>\n",
       "      <th>f161</th>\n",
       "      <th>f162</th>\n",
       "      <th>f163</th>\n",
       "      <th>f164</th>\n",
       "      <th>f165</th>\n",
       "      <th>f166</th>\n",
       "      <th>class</th>\n",
       "    </tr>\n",
       "  </thead>\n",
       "  <tbody>\n",
       "    <tr>\n",
       "      <th>6593</th>\n",
       "      <td>6594</td>\n",
       "      <td>NON-MUSK-jp13</td>\n",
       "      <td>jp13_2+5</td>\n",
       "      <td>51</td>\n",
       "      <td>-123</td>\n",
       "      <td>-23</td>\n",
       "      <td>-108</td>\n",
       "      <td>-117</td>\n",
       "      <td>134</td>\n",
       "      <td>-160</td>\n",
       "      <td>...</td>\n",
       "      <td>-66</td>\n",
       "      <td>164</td>\n",
       "      <td>-14</td>\n",
       "      <td>-29</td>\n",
       "      <td>107</td>\n",
       "      <td>171</td>\n",
       "      <td>-44</td>\n",
       "      <td>-115</td>\n",
       "      <td>118</td>\n",
       "      <td>0</td>\n",
       "    </tr>\n",
       "    <tr>\n",
       "      <th>6594</th>\n",
       "      <td>6595</td>\n",
       "      <td>NON-MUSK-jp13</td>\n",
       "      <td>jp13_2+6</td>\n",
       "      <td>44</td>\n",
       "      <td>-104</td>\n",
       "      <td>-19</td>\n",
       "      <td>-105</td>\n",
       "      <td>-117</td>\n",
       "      <td>142</td>\n",
       "      <td>-165</td>\n",
       "      <td>...</td>\n",
       "      <td>-51</td>\n",
       "      <td>166</td>\n",
       "      <td>-9</td>\n",
       "      <td>150</td>\n",
       "      <td>129</td>\n",
       "      <td>158</td>\n",
       "      <td>-66</td>\n",
       "      <td>-144</td>\n",
       "      <td>-5</td>\n",
       "      <td>0</td>\n",
       "    </tr>\n",
       "    <tr>\n",
       "      <th>6595</th>\n",
       "      <td>6596</td>\n",
       "      <td>NON-MUSK-jp13</td>\n",
       "      <td>jp13_2+7</td>\n",
       "      <td>44</td>\n",
       "      <td>-102</td>\n",
       "      <td>-19</td>\n",
       "      <td>-104</td>\n",
       "      <td>-117</td>\n",
       "      <td>72</td>\n",
       "      <td>-165</td>\n",
       "      <td>...</td>\n",
       "      <td>90</td>\n",
       "      <td>117</td>\n",
       "      <td>-8</td>\n",
       "      <td>150</td>\n",
       "      <td>130</td>\n",
       "      <td>159</td>\n",
       "      <td>-66</td>\n",
       "      <td>-144</td>\n",
       "      <td>-6</td>\n",
       "      <td>0</td>\n",
       "    </tr>\n",
       "    <tr>\n",
       "      <th>6596</th>\n",
       "      <td>6597</td>\n",
       "      <td>NON-MUSK-jp13</td>\n",
       "      <td>jp13_2+8</td>\n",
       "      <td>51</td>\n",
       "      <td>-121</td>\n",
       "      <td>-23</td>\n",
       "      <td>-106</td>\n",
       "      <td>-117</td>\n",
       "      <td>63</td>\n",
       "      <td>-161</td>\n",
       "      <td>...</td>\n",
       "      <td>86</td>\n",
       "      <td>99</td>\n",
       "      <td>-14</td>\n",
       "      <td>-31</td>\n",
       "      <td>106</td>\n",
       "      <td>171</td>\n",
       "      <td>-44</td>\n",
       "      <td>-116</td>\n",
       "      <td>117</td>\n",
       "      <td>0</td>\n",
       "    </tr>\n",
       "    <tr>\n",
       "      <th>6597</th>\n",
       "      <td>6598</td>\n",
       "      <td>NON-MUSK-jp13</td>\n",
       "      <td>jp13_2+9</td>\n",
       "      <td>51</td>\n",
       "      <td>-122</td>\n",
       "      <td>-23</td>\n",
       "      <td>-106</td>\n",
       "      <td>-117</td>\n",
       "      <td>190</td>\n",
       "      <td>-161</td>\n",
       "      <td>...</td>\n",
       "      <td>40</td>\n",
       "      <td>124</td>\n",
       "      <td>-14</td>\n",
       "      <td>-30</td>\n",
       "      <td>107</td>\n",
       "      <td>171</td>\n",
       "      <td>-44</td>\n",
       "      <td>-115</td>\n",
       "      <td>118</td>\n",
       "      <td>0</td>\n",
       "    </tr>\n",
       "  </tbody>\n",
       "</table>\n",
       "<p>5 rows × 170 columns</p>\n",
       "</div>"
      ],
      "text/plain": [
       "        ID  molecule_name conformation_name  f1   f2  f3   f4   f5   f6   f7  \\\n",
       "6593  6594  NON-MUSK-jp13          jp13_2+5  51 -123 -23 -108 -117  134 -160   \n",
       "6594  6595  NON-MUSK-jp13          jp13_2+6  44 -104 -19 -105 -117  142 -165   \n",
       "6595  6596  NON-MUSK-jp13          jp13_2+7  44 -102 -19 -104 -117   72 -165   \n",
       "6596  6597  NON-MUSK-jp13          jp13_2+8  51 -121 -23 -106 -117   63 -161   \n",
       "6597  6598  NON-MUSK-jp13          jp13_2+9  51 -122 -23 -106 -117  190 -161   \n",
       "\n",
       "      ...    f158  f159  f160  f161  f162  f163  f164  f165  f166  class  \n",
       "6593  ...     -66   164   -14   -29   107   171   -44  -115   118      0  \n",
       "6594  ...     -51   166    -9   150   129   158   -66  -144    -5      0  \n",
       "6595  ...      90   117    -8   150   130   159   -66  -144    -6      0  \n",
       "6596  ...      86    99   -14   -31   106   171   -44  -116   117      0  \n",
       "6597  ...      40   124   -14   -30   107   171   -44  -115   118      0  \n",
       "\n",
       "[5 rows x 170 columns]"
      ]
     },
     "execution_count": 9,
     "metadata": {},
     "output_type": "execute_result"
    }
   ],
   "source": [
    "df.tail(5)"
   ]
  },
  {
   "cell_type": "code",
   "execution_count": 25,
   "metadata": {},
   "outputs": [
    {
     "data": {
      "text/plain": [
       "ID                   0\n",
       "molecule_name        0\n",
       "conformation_name    0\n",
       "f1                   0\n",
       "f2                   0\n",
       "f3                   0\n",
       "f4                   0\n",
       "f5                   0\n",
       "f6                   0\n",
       "f7                   0\n",
       "f8                   0\n",
       "f9                   0\n",
       "f10                  0\n",
       "f11                  0\n",
       "f12                  0\n",
       "f13                  0\n",
       "f14                  0\n",
       "f15                  0\n",
       "f16                  0\n",
       "f17                  0\n",
       "f18                  0\n",
       "f19                  0\n",
       "f20                  0\n",
       "f21                  0\n",
       "f22                  0\n",
       "f23                  0\n",
       "f24                  0\n",
       "f25                  0\n",
       "f26                  0\n",
       "f27                  0\n",
       "                    ..\n",
       "f138                 0\n",
       "f139                 0\n",
       "f140                 0\n",
       "f141                 0\n",
       "f142                 0\n",
       "f143                 0\n",
       "f144                 0\n",
       "f145                 0\n",
       "f146                 0\n",
       "f147                 0\n",
       "f148                 0\n",
       "f149                 0\n",
       "f150                 0\n",
       "f151                 0\n",
       "f152                 0\n",
       "f153                 0\n",
       "f154                 0\n",
       "f155                 0\n",
       "f156                 0\n",
       "f157                 0\n",
       "f158                 0\n",
       "f159                 0\n",
       "f160                 0\n",
       "f161                 0\n",
       "f162                 0\n",
       "f163                 0\n",
       "f164                 0\n",
       "f165                 0\n",
       "f166                 0\n",
       "class                0\n",
       "Length: 170, dtype: int64"
      ]
     },
     "execution_count": 25,
     "metadata": {},
     "output_type": "execute_result"
    }
   ],
   "source": [
    "# missing value analysis\n",
    "df.isnull().sum() "
   ]
  },
  {
   "cell_type": "markdown",
   "metadata": {},
   "source": [
    "### Observation:-\n",
    "- This is an imbalanced dataset.\n",
    "- This is a binary classification problem where class 1 means MUSK compound and class 0 mean NON-MUSK compound.\n",
    "- No missing value is present in the dataset."
   ]
  },
  {
   "cell_type": "markdown",
   "metadata": {},
   "source": [
    "## Preprocessing"
   ]
  },
  {
   "cell_type": "code",
   "execution_count": 3,
   "metadata": {},
   "outputs": [],
   "source": [
    "# Correlation analysis\n",
    "# Create correlation matrix\n",
    "corr_matrix = df.corr().abs()"
   ]
  },
  {
   "cell_type": "code",
   "execution_count": 4,
   "metadata": {},
   "outputs": [],
   "source": [
    "# dropping columns having very high correlation\n",
    "# Select upper triangle of correlation matrix\n",
    "upper = corr_matrix.where(np.triu(np.ones(corr_matrix.shape), k=1).astype(np.bool))\n",
    "# Find index of feature columns with correlation greater than 0.92\n",
    "to_drop = [column for column in upper.columns if any(upper[column] > 0.92)]"
   ]
  },
  {
   "cell_type": "code",
   "execution_count": 5,
   "metadata": {},
   "outputs": [
    {
     "data": {
      "text/plain": [
       "list"
      ]
     },
     "execution_count": 5,
     "metadata": {},
     "output_type": "execute_result"
    }
   ],
   "source": [
    "type(to_drop)"
   ]
  },
  {
   "cell_type": "code",
   "execution_count": 6,
   "metadata": {},
   "outputs": [],
   "source": [
    "df = df.drop(to_drop,axis=1)"
   ]
  },
  {
   "cell_type": "code",
   "execution_count": 7,
   "metadata": {},
   "outputs": [
    {
     "data": {
      "text/plain": [
       "(6598, 117)"
      ]
     },
     "execution_count": 7,
     "metadata": {},
     "output_type": "execute_result"
    }
   ],
   "source": [
    "# After drop size of dataframe\n",
    "df.shape"
   ]
  },
  {
   "cell_type": "markdown",
   "metadata": {},
   "source": [
    "## Split data into train and test in the 80:20 ratio"
   ]
  },
  {
   "cell_type": "code",
   "execution_count": 8,
   "metadata": {},
   "outputs": [],
   "source": [
    "train,test = train_test_split(df, random_state=30, test_size = 0.2)"
   ]
  },
  {
   "cell_type": "code",
   "execution_count": 9,
   "metadata": {},
   "outputs": [
    {
     "data": {
      "text/plain": [
       "(5278, 117)"
      ]
     },
     "execution_count": 9,
     "metadata": {},
     "output_type": "execute_result"
    }
   ],
   "source": [
    "train.shape"
   ]
  },
  {
   "cell_type": "code",
   "execution_count": 10,
   "metadata": {},
   "outputs": [
    {
     "data": {
      "text/plain": [
       "(5278, 113)"
      ]
     },
     "execution_count": 10,
     "metadata": {},
     "output_type": "execute_result"
    }
   ],
   "source": [
    "Xtrain = train.iloc[:,3:-1]\n",
    "Xtrain.shape"
   ]
  },
  {
   "cell_type": "code",
   "execution_count": 11,
   "metadata": {},
   "outputs": [
    {
     "data": {
      "text/plain": [
       "Index(['f1', 'f2', 'f3', 'f4', 'f5', 'f6', 'f7', 'f8', 'f9', 'f10',\n",
       "       ...\n",
       "       'f157', 'f158', 'f159', 'f160', 'f161', 'f162', 'f163', 'f164', 'f165',\n",
       "       'f166'],\n",
       "      dtype='object', length=113)"
      ]
     },
     "execution_count": 11,
     "metadata": {},
     "output_type": "execute_result"
    }
   ],
   "source": [
    "Xtrain.columns"
   ]
  },
  {
   "cell_type": "code",
   "execution_count": 12,
   "metadata": {},
   "outputs": [],
   "source": [
    "Ytrain = train.iloc[:,-1:]\n",
    "Xtest = test.iloc[:,3:-1]\n",
    "Ytest = test.iloc[:,-1:]"
   ]
  },
  {
   "cell_type": "code",
   "execution_count": 13,
   "metadata": {},
   "outputs": [
    {
     "data": {
      "text/plain": [
       "(1320, 1)"
      ]
     },
     "execution_count": 13,
     "metadata": {},
     "output_type": "execute_result"
    }
   ],
   "source": [
    "Ytest.shape"
   ]
  },
  {
   "cell_type": "code",
   "execution_count": 15,
   "metadata": {},
   "outputs": [],
   "source": [
    "x=[1]*Xtrain.shape[0]\n",
    "Xtrain[\"demo\"]=x\n",
    "y=[1]*Xtest.shape[0]\n",
    "Xtest[\"demo\"]=y"
   ]
  },
  {
   "cell_type": "code",
   "execution_count": 16,
   "metadata": {},
   "outputs": [
    {
     "data": {
      "text/plain": [
       "(5278, 114)"
      ]
     },
     "execution_count": 16,
     "metadata": {},
     "output_type": "execute_result"
    }
   ],
   "source": [
    "Xtrain.shape"
   ]
  },
  {
   "cell_type": "code",
   "execution_count": 17,
   "metadata": {},
   "outputs": [
    {
     "data": {
      "text/plain": [
       "(1320, 114)"
      ]
     },
     "execution_count": 17,
     "metadata": {},
     "output_type": "execute_result"
    }
   ],
   "source": [
    "Xtest.shape"
   ]
  },
  {
   "cell_type": "markdown",
   "metadata": {},
   "source": [
    "## Model"
   ]
  },
  {
   "cell_type": "markdown",
   "metadata": {},
   "source": [
    "## CNN"
   ]
  },
  {
   "cell_type": "code",
   "execution_count": 14,
   "metadata": {},
   "outputs": [
    {
     "name": "stderr",
     "output_type": "stream",
     "text": [
      "Using TensorFlow backend.\n"
     ]
    }
   ],
   "source": [
    "import tensorflow as tf\n",
    "import keras\n",
    "from keras.models import Sequential\n",
    "from keras.layers import Dense, Dropout, Flatten\n",
    "from keras.layers import Conv2D, MaxPooling2D"
   ]
  },
  {
   "cell_type": "code",
   "execution_count": 32,
   "metadata": {},
   "outputs": [],
   "source": [
    "x_train=Xtrain.values.reshape(Xtrain.shape[0],19,6,1)\n",
    "x_test=Xtest.values.reshape(Xtest.shape[0],19,6,1)"
   ]
  },
  {
   "cell_type": "code",
   "execution_count": 33,
   "metadata": {},
   "outputs": [
    {
     "data": {
      "text/plain": [
       "(5278, 19, 6, 1)"
      ]
     },
     "execution_count": 33,
     "metadata": {},
     "output_type": "execute_result"
    }
   ],
   "source": [
    "x_train.shape"
   ]
  },
  {
   "cell_type": "code",
   "execution_count": 34,
   "metadata": {},
   "outputs": [
    {
     "data": {
      "text/plain": [
       "(1320, 19, 6, 1)"
      ]
     },
     "execution_count": 34,
     "metadata": {},
     "output_type": "execute_result"
    }
   ],
   "source": [
    "x_test.shape"
   ]
  },
  {
   "cell_type": "code",
   "execution_count": 47,
   "metadata": {},
   "outputs": [],
   "source": [
    "model=Sequential()\n",
    "model.add(Conv2D(32,kernel_size=(3,3),activation='relu',input_shape=(19,6,1)))\n",
    "model.add(Conv2D(64,(3,3),activation='relu'))\n",
    "model.add(MaxPooling2D(pool_size=(2,2)))\n",
    "model.add(Dropout(0.25))\n",
    "model.add(Flatten())\n",
    "model.add(Dense(128,activation='relu'))\n",
    "model.add(Dropout(0.5))\n",
    "model.add(Dense(1,activation='sigmoid'))"
   ]
  },
  {
   "cell_type": "code",
   "execution_count": 48,
   "metadata": {},
   "outputs": [],
   "source": [
    "model.compile(loss=keras.losses.binary_crossentropy,optimizer=keras.optimizers.Adadelta(),metrics=['accuracy'])"
   ]
  },
  {
   "cell_type": "code",
   "execution_count": 49,
   "metadata": {},
   "outputs": [
    {
     "name": "stdout",
     "output_type": "stream",
     "text": [
      "Train on 5278 samples, validate on 1320 samples\n",
      "Epoch 1/30\n",
      "5278/5278 [==============================] - 1s 204us/step - loss: 2.7909 - acc: 0.8194 - val_loss: 2.3567 - val_acc: 0.8538\n",
      "Epoch 2/30\n",
      "5278/5278 [==============================] - 1s 124us/step - loss: 2.5139 - acc: 0.8433 - val_loss: 2.3567 - val_acc: 0.8538\n",
      "Epoch 3/30\n",
      "5278/5278 [==============================] - 1s 141us/step - loss: 2.4717 - acc: 0.8441 - val_loss: 2.3567 - val_acc: 0.8538\n",
      "Epoch 4/30\n",
      "5278/5278 [==============================] - 1s 126us/step - loss: 2.3921 - acc: 0.8401 - val_loss: 2.3567 - val_acc: 0.8538\n",
      "Epoch 5/30\n",
      "5278/5278 [==============================] - 1s 125us/step - loss: 1.4038 - acc: 0.8748 - val_loss: 0.7855 - val_acc: 0.9030\n",
      "Epoch 6/30\n",
      "5278/5278 [==============================] - 1s 128us/step - loss: 0.3905 - acc: 0.8962 - val_loss: 0.1481 - val_acc: 0.9455\n",
      "Epoch 7/30\n",
      "5278/5278 [==============================] - 1s 127us/step - loss: 0.2441 - acc: 0.9168 - val_loss: 0.1345 - val_acc: 0.9424\n",
      "Epoch 8/30\n",
      "5278/5278 [==============================] - 1s 129us/step - loss: 0.1972 - acc: 0.9246 - val_loss: 0.1462 - val_acc: 0.9409\n",
      "Epoch 9/30\n",
      "5278/5278 [==============================] - 1s 128us/step - loss: 0.1761 - acc: 0.9339 - val_loss: 0.1221 - val_acc: 0.9568\n",
      "Epoch 10/30\n",
      "5278/5278 [==============================] - 1s 134us/step - loss: 0.1557 - acc: 0.9369 - val_loss: 0.1132 - val_acc: 0.9561\n",
      "Epoch 11/30\n",
      "5278/5278 [==============================] - 1s 131us/step - loss: 0.1466 - acc: 0.9392 - val_loss: 0.1138 - val_acc: 0.9530\n",
      "Epoch 12/30\n",
      "5278/5278 [==============================] - 1s 129us/step - loss: 0.1244 - acc: 0.9523 - val_loss: 0.1265 - val_acc: 0.9538\n",
      "Epoch 13/30\n",
      "5278/5278 [==============================] - 1s 135us/step - loss: 0.1170 - acc: 0.9566 - val_loss: 0.0863 - val_acc: 0.9727\n",
      "Epoch 14/30\n",
      "5278/5278 [==============================] - 1s 134us/step - loss: 0.1093 - acc: 0.9564 - val_loss: 0.0848 - val_acc: 0.9667\n",
      "Epoch 15/30\n",
      "5278/5278 [==============================] - 1s 135us/step - loss: 0.1094 - acc: 0.9566 - val_loss: 0.0963 - val_acc: 0.9583\n",
      "Epoch 16/30\n",
      "5278/5278 [==============================] - 1s 130us/step - loss: 0.0968 - acc: 0.9598 - val_loss: 0.0856 - val_acc: 0.9712\n",
      "Epoch 17/30\n",
      "5278/5278 [==============================] - 1s 131us/step - loss: 0.0963 - acc: 0.9600 - val_loss: 0.1016 - val_acc: 0.9515\n",
      "Epoch 18/30\n",
      "5278/5278 [==============================] - 1s 138us/step - loss: 0.0894 - acc: 0.9632 - val_loss: 0.0670 - val_acc: 0.9765\n",
      "Epoch 19/30\n",
      "5278/5278 [==============================] - 1s 130us/step - loss: 0.0730 - acc: 0.9693 - val_loss: 0.0651 - val_acc: 0.9765\n",
      "Epoch 20/30\n",
      "5278/5278 [==============================] - 1s 130us/step - loss: 0.0672 - acc: 0.9718 - val_loss: 0.0730 - val_acc: 0.9742\n",
      "Epoch 21/30\n",
      "5278/5278 [==============================] - 1s 135us/step - loss: 0.0668 - acc: 0.9723 - val_loss: 0.0832 - val_acc: 0.9750\n",
      "Epoch 22/30\n",
      "5278/5278 [==============================] - 1s 132us/step - loss: 0.0669 - acc: 0.9735 - val_loss: 0.0710 - val_acc: 0.9697\n",
      "Epoch 23/30\n",
      "5278/5278 [==============================] - 1s 136us/step - loss: 0.0654 - acc: 0.9729 - val_loss: 0.0569 - val_acc: 0.9742\n",
      "Epoch 24/30\n",
      "5278/5278 [==============================] - 1s 131us/step - loss: 0.0556 - acc: 0.9754 - val_loss: 0.1205 - val_acc: 0.9674\n",
      "Epoch 25/30\n",
      "5278/5278 [==============================] - 1s 131us/step - loss: 0.0616 - acc: 0.9756 - val_loss: 0.0634 - val_acc: 0.9780\n",
      "Epoch 26/30\n",
      "5278/5278 [==============================] - 1s 132us/step - loss: 0.0524 - acc: 0.9788 - val_loss: 0.0690 - val_acc: 0.9712\n",
      "Epoch 27/30\n",
      "5278/5278 [==============================] - 1s 136us/step - loss: 0.0501 - acc: 0.9784 - val_loss: 0.0802 - val_acc: 0.9705\n",
      "Epoch 28/30\n",
      "5278/5278 [==============================] - 1s 134us/step - loss: 0.0489 - acc: 0.9795 - val_loss: 0.0551 - val_acc: 0.9788\n",
      "Epoch 29/30\n",
      "5278/5278 [==============================] - 1s 132us/step - loss: 0.0469 - acc: 0.9820 - val_loss: 0.0528 - val_acc: 0.9833\n",
      "Epoch 30/30\n",
      "5278/5278 [==============================] - 1s 138us/step - loss: 0.0476 - acc: 0.9795 - val_loss: 0.0544 - val_acc: 0.9811\n",
      "[0.05440216589380394, 0.9810606060606061]\n"
     ]
    }
   ],
   "source": [
    "history = model.fit(x_train,Ytrain,batch_size=128,epochs=30,validation_data=(x_test,Ytest))\n",
    "score=model.evaluate(x_test,Ytest,verbose=0)\n",
    "print(score)"
   ]
  },
  {
   "cell_type": "code",
   "execution_count": 54,
   "metadata": {},
   "outputs": [],
   "source": [
    "score1=model.evaluate(x_train,Ytrain,verbose=0)\n"
   ]
  },
  {
   "cell_type": "code",
   "execution_count": 51,
   "metadata": {
    "scrolled": false
   },
   "outputs": [
    {
     "data": {
      "image/png": "[encoded data removed]",
      "text/plain": [
       "<Figure size 432x288 with 1 Axes>"
      ]
     },
     "metadata": {},
     "output_type": "display_data"
    },
    {
     "data": {
      "image/png": "[encoded data removed]",
      "text/plain": [
       "<Figure size 432x288 with 1 Axes>"
      ]
     },
     "metadata": {},
     "output_type": "display_data"
    }
   ],
   "source": [
    "%matplotlib inline\n",
    "\n",
    "# summarize history for accuracy\n",
    "plt.plot(history.history['acc'])\n",
    "plt.plot(history.history['val_acc'])\n",
    "plt.title('model accuracy')\n",
    "plt.ylabel('accuracy')\n",
    "plt.xlabel('epoch')\n",
    "plt.legend(['train', 'test'], loc='upper left')\n",
    "plt.show()\n",
    "\n",
    "# summarize history for loss\n",
    "plt.plot(history.history['loss'])\n",
    "plt.plot(history.history['val_loss'])\n",
    "plt.title('model loss')\n",
    "plt.ylabel('loss')\n",
    "plt.xlabel('epoch')\n",
    "plt.legend(['train', 'test'], loc='upper right')\n",
    "plt.show()"
   ]
  },
  {
   "cell_type": "code",
   "execution_count": 52,
   "metadata": {},
   "outputs": [
    {
     "name": "stdout",
     "output_type": "stream",
     "text": [
      "f1_score: 0.9326145552560648\n",
      "recall: 0.8963730569948186\n",
      "Validation Loss: 0.05440216589380394\n",
      "Validation Accuracy: 0.9810606060606061\n"
     ]
    }
   ],
   "source": [
    "print(\"f1_score:\",f1_score(Ytest,model.predict_classes(x_test),))\n",
    "print(\"recall:\",recall_score(Ytest,model.predict_classes(x_test),))\n",
    "print(\"Validation Loss:\",score[0])\n",
    "print(\"Validation Accuracy:\",score[1])"
   ]
  },
  {
   "cell_type": "code",
   "execution_count": 55,
   "metadata": {},
   "outputs": [
    {
     "name": "stdout",
     "output_type": "stream",
     "text": [
      "Train f1_score: 0.9669369931378664\n",
      "Train recall: 0.9405339805825242\n",
      "Train Validation Loss: 0.02519449042680406\n",
      "Train Validation Accuracy: 0.9899583175445245\n"
     ]
    }
   ],
   "source": [
    "print(\"Train f1_score:\",f1_score(Ytrain,model.predict_classes(x_train),))\n",
    "print(\"Train recall:\",recall_score(Ytrain,model.predict_classes(x_train),))\n",
    "print(\"Train Validation Loss:\",score1[0])\n",
    "print(\"Train Validation Accuracy:\",score1[1])"
   ]
  },
  {
   "cell_type": "code",
   "execution_count": 53,
   "metadata": {},
   "outputs": [],
   "source": [
    "model.save('model.h5')"
   ]
  },
  {
   "cell_type": "code",
   "execution_count": 4,
   "metadata": {},
   "outputs": [
    {
     "name": "stdout",
     "output_type": "stream",
     "text": [
      "+-------+----------+-------+------+\n",
      "| S.No. |  Metric  | Train | Test |\n",
      "+-------+----------+-------+------+\n",
      "|   1   | f1_score |  0.97 | 0.93 |\n",
      "|   2   |  recall  |  0.94 | 0.9  |\n",
      "|   3   |   loss   | 0.025 | 0.05 |\n",
      "|   4   | accuracy |  0.99 | 0.98 |\n",
      "+-------+----------+-------+------+\n"
     ]
    }
   ],
   "source": [
    "from prettytable import PrettyTable\n",
    "x=PrettyTable()\n",
    "sn=[1,2,3,4]\n",
    "mea=[\"f1_score\",\"recall\",\"loss\",\"accuracy\"]\n",
    "train=[0.97,0.94,0.025,0.99]\n",
    "test=[0.93,0.90,0.05,0.98]\n",
    "x.add_column(\"S.No.\",sn)\n",
    "x.add_column(\"Metric\",mea)\n",
    "x.add_column(\"Train\",train)\n",
    "x.add_column(\"Test\",test)\n",
    "\n",
    "print(x)\n",
    "\n"
   ]
  },
  {
   "cell_type": "code",
   "execution_count": null,
   "metadata": {},
   "outputs": [],
   "source": []
  }
 ],
 "metadata": {
  "kernelspec": {
   "display_name": "Python 3",
   "language": "python",
   "name": "python3"
  },
  "language_info": {
   "codemirror_mode": {
    "name": "ipython",
    "version": 3
   },
   "file_extension": ".py",
   "mimetype": "text/x-python",
   "name": "python",
   "nbconvert_exporter": "python",
   "pygments_lexer": "ipython3",
   "version": "3.6.7"
  }
 },
 "nbformat": 4,
 "nbformat_minor": 2
}
